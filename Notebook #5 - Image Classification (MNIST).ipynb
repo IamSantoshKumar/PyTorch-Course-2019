{
  "nbformat": 4,
  "nbformat_minor": 0,
  "metadata": {
    "colab": {
      "name": "Notebook #4 - Image Classification (MNIST).ipynb",
      "version": "0.3.2",
      "provenance": [],
      "collapsed_sections": [
        "fdf3s9fYqZhS",
        "A6YpuA3O6ZjU",
        "-wRiHie_SWoR",
        "608f_ZxYT3Ch",
        "w_BZQrmWdD2M",
        "z4YhHZr3mogG",
        "K8ORoaK2mvd8",
        "QhxPmJlfqTME",
        "czDC0G7Yqb2u",
        "K_z0ThfXk4wn"
      ]
    },
    "kernelspec": {
      "name": "python3",
      "display_name": "Python 3"
    },
    "accelerator": "GPU"
  },
  "cells": [
    {
      "cell_type": "markdown",
      "metadata": {
        "id": "SIekVFdVqSR7",
        "colab_type": "text"
      },
      "source": [
        "# MNIST Image Classification Implementation (using linear layers)"
      ]
    },
    {
      "cell_type": "markdown",
      "metadata": {
        "id": "fdf3s9fYqZhS",
        "colab_type": "text"
      },
      "source": [
        "## Purpose"
      ]
    },
    {
      "cell_type": "markdown",
      "metadata": {
        "id": "VMHLS4yyqbhG",
        "colab_type": "text"
      },
      "source": [
        "The purpose of this notebook is to create a model (using linear layers) that can, with high accuracy (~96%), classify the handwritten digits in the MNIST dataset. This notebook also allowed me to use PyTorch's image transformations and various other helper functions."
      ]
    },
    {
      "cell_type": "markdown",
      "metadata": {
        "id": "A6YpuA3O6ZjU",
        "colab_type": "text"
      },
      "source": [
        "## Imports"
      ]
    },
    {
      "cell_type": "code",
      "metadata": {
        "id": "fT53je-TN0cf",
        "colab_type": "code",
        "outputId": "5e91d974-4dd5-4ae6-d1f7-0519f1a70f7d",
        "colab": {
          "base_uri": "https://localhost:8080/",
          "height": 121
        }
      },
      "source": [
        "!pip3 install torchvision\n",
        "!pip3 install tqdm"
      ],
      "execution_count": 0,
      "outputs": [
        {
          "output_type": "stream",
          "text": [
            "Requirement already satisfied: torchvision in /usr/local/lib/python3.6/dist-packages (0.3.0)\n",
            "Requirement already satisfied: pillow>=4.1.1 in /usr/local/lib/python3.6/dist-packages (from torchvision) (6.1.0)\n",
            "Requirement already satisfied: numpy in /usr/local/lib/python3.6/dist-packages (from torchvision) (1.16.4)\n",
            "Requirement already satisfied: torch>=1.1.0 in /usr/local/lib/python3.6/dist-packages (from torchvision) (1.1.0)\n",
            "Requirement already satisfied: six in /usr/local/lib/python3.6/dist-packages (from torchvision) (1.12.0)\n",
            "Requirement already satisfied: tqdm in /usr/local/lib/python3.6/dist-packages (4.28.1)\n"
          ],
          "name": "stdout"
        }
      ]
    },
    {
      "cell_type": "code",
      "metadata": {
        "id": "x_rU-fguN2l9",
        "colab_type": "code",
        "colab": {}
      },
      "source": [
        "import torch\n",
        "import torch.nn.functional as F\n",
        "import matplotlib.pyplot as plt\n",
        "import numpy as np\n",
        "import PIL.ImageOps\n",
        "from torch import nn\n",
        "from torchvision import datasets, transforms\n",
        "from tqdm import tqdm"
      ],
      "execution_count": 0,
      "outputs": []
    },
    {
      "cell_type": "markdown",
      "metadata": {
        "id": "-wRiHie_SWoR",
        "colab_type": "text"
      },
      "source": [
        "## Preprocessing the image data from MNIST"
      ]
    },
    {
      "cell_type": "markdown",
      "metadata": {
        "id": "umNMOIiHSbOA",
        "colab_type": "text"
      },
      "source": [
        "Transformations used:\n",
        "\n",
        "- ToTensor will convert the 28x28 numpy array with pixel brightness values ranging from 0-255 (which is the structure the images in the MNIST dataset are currently in) to a float tensor with pixel brightness values ranging from 0-1\n",
        "\n",
        "- Normalize will apply normalization to the pixel brightness values (subtract value from mean and then divide by the standard deviation). This makes convergence to minumum loss quicker. \n",
        "\n"
      ]
    },
    {
      "cell_type": "code",
      "metadata": {
        "id": "qx8vHHMIN7qw",
        "colab_type": "code",
        "colab": {}
      },
      "source": [
        "transform = transforms.Compose([\n",
        "                               transforms.Resize((28,28)),\n",
        "                               transforms.ToTensor(),\n",
        "                               transforms.Normalize((0.5,), (0.5,)),\n",
        "                               ]) # defining the transformations we want to make to the images before feeding them into our model\n",
        "                                                          \n",
        "training_dataset = datasets.MNIST(root = './data', train=True, download=True, transform=transform) \n",
        "validation_dataset = datasets.MNIST(root = './data', train=False, download=True, transform=transform)\n",
        "\n",
        "training_loader = torch.utils.data.DataLoader(dataset = training_dataset, batch_size = 100, shuffle=True) # create a dataloader to handle batching of the data. Note that we shuffle the data at each epoch to prevent the gradient descent process from getting stuck in a local minimum, we want it to reach the absolute minimum.\n",
        "validation_loader = torch.utils.data.DataLoader(validation_dataset, batch_size = 100, shuffle=False)"
      ],
      "execution_count": 0,
      "outputs": []
    },
    {
      "cell_type": "markdown",
      "metadata": {
        "id": "608f_ZxYT3Ch",
        "colab_type": "text"
      },
      "source": [
        "## Plotting the original training images"
      ]
    },
    {
      "cell_type": "code",
      "metadata": {
        "id": "dL-c-iv_T55K",
        "colab_type": "code",
        "colab": {}
      },
      "source": [
        "def image_convert(tensor): # all this function does is prepeare the images for plotting by changing them from tensors to numpy arrays and also reversing the transforms made when creating the training_dataset\n",
        "  image = tensor.clone().detach().numpy()\n",
        "  image = image.transpose(1, 2, 0)\n",
        "  image = image * np.array((0.5, 0.5, 0.5)) + np.array((0.5, 0.5, 0.5))\n",
        "  image = image.clip(0, 1)\n",
        "  return image"
      ],
      "execution_count": 0,
      "outputs": []
    },
    {
      "cell_type": "code",
      "metadata": {
        "id": "wM690VQ3ULWU",
        "colab_type": "code",
        "outputId": "736d2d93-8f13-42a3-a2fa-b5dd0a6104dd",
        "colab": {
          "base_uri": "https://localhost:8080/",
          "height": 268
        }
      },
      "source": [
        "dataiter = iter(training_loader)\n",
        "images, labels = dataiter.next()\n",
        "fig = plt.figure(figsize=(25, 4))\n",
        "\n",
        "for idx in np.arange(20):\n",
        "  axis = fig.add_subplot(2, 10, idx+1, xticks = [], yticks = [])\n",
        "  plt.imshow(image_convert(images[idx]))\n",
        "  axis.set_title([labels[idx].item()])\n",
        "  "
      ],
      "execution_count": 0,
      "outputs": [
        {
          "output_type": "display_data",
          "data": {
            "image/png": "[encoded data removed]",
            "text/plain": [
              "<Figure size 1800x288 with 20 Axes>"
            ]
          },
          "metadata": {
            "tags": []
          }
        }
      ]
    },
    {
      "cell_type": "markdown",
      "metadata": {
        "id": "w_BZQrmWdD2M",
        "colab_type": "text"
      },
      "source": [
        "## Building the model"
      ]
    },
    {
      "cell_type": "code",
      "metadata": {
        "id": "I8ddycLidFeA",
        "colab_type": "code",
        "colab": {}
      },
      "source": [
        "class Classifier(nn.Module):\n",
        "  def __init__(self, n_input_nodes, H1, H2, num_output_nodes):\n",
        "    super().__init__()\n",
        "    self.linear1 = nn.Linear(n_input_nodes, H1)\n",
        "    self.linear2 = nn.Linear(H1, H2)\n",
        "    self.linear3 = nn.Linear(H2, num_output_nodes)\n",
        "  \n",
        "  def forward(self, x):\n",
        "    x = F.relu(self.linear1(x)) # we use relu as our activation function throughout the feed-forward process\n",
        "    x = F.relu(self.linear2(x))\n",
        "    x = self.linear3(x) # note that we don't apply an activation function at the last layer in this forward function as it is implicitly applied later in the nn.CrossEntropyLoss function\n",
        "    return x  "
      ],
      "execution_count": 0,
      "outputs": []
    },
    {
      "cell_type": "code",
      "metadata": {
        "id": "l5VAN8TidNfI",
        "colab_type": "code",
        "outputId": "447f9b54-8343-4d5e-9e6d-c3dd99b7064b",
        "colab": {
          "base_uri": "https://localhost:8080/",
          "height": 104
        }
      },
      "source": [
        "model = Classifier(784, 125, 65, 10) # 784 nodes in the input layer since each image is 28x28 pixels, the 125 and 65 nodes in the hidden layers is chosen arbitrarily (it turns out these values yield good results in the end), finally the 10 nodes in the output layer is chosen since there are 10 potential outputs (the values 0-9)\n",
        "model"
      ],
      "execution_count": 0,
      "outputs": [
        {
          "output_type": "execute_result",
          "data": {
            "text/plain": [
              "Classifier(\n",
              "  (linear1): Linear(in_features=784, out_features=125, bias=True)\n",
              "  (linear2): Linear(in_features=125, out_features=65, bias=True)\n",
              "  (linear3): Linear(in_features=65, out_features=10, bias=True)\n",
              ")"
            ]
          },
          "metadata": {
            "tags": []
          },
          "execution_count": 42
        }
      ]
    },
    {
      "cell_type": "code",
      "metadata": {
        "id": "tPpMP25If_Hk",
        "colab_type": "code",
        "colab": {}
      },
      "source": [
        "criterion = nn.CrossEntropyLoss() # we use Cross Entropy Loss for the loss function since it is a multi-class problem. Remember that this function also implicitly applies the log_softmax activation function\n",
        "optimizer = torch.optim.Adam(model.parameters(), lr = 0.01) # We use Adam as our optimizer"
      ],
      "execution_count": 0,
      "outputs": []
    },
    {
      "cell_type": "markdown",
      "metadata": {
        "id": "z4YhHZr3mogG",
        "colab_type": "text"
      },
      "source": [
        "## Training the model"
      ]
    },
    {
      "cell_type": "code",
      "metadata": {
        "id": "NRfT_10lgPM2",
        "colab_type": "code",
        "colab": {}
      },
      "source": [
        "epochs = 12\n",
        "running_loss_history = []\n",
        "running_corrects_history = []\n",
        "val_running_loss_history = []\n",
        "val_running_corrects_history = []\n",
        "\n",
        "def train():\n",
        "  for e in tqdm(range(epochs)):\n",
        "    running_loss = 0.0\n",
        "    running_corrects = 0.0\n",
        "    val_running_loss = 0.0\n",
        "    val_running_corrects = 0.0\n",
        "    \n",
        "    for inputs, labels in training_loader:\n",
        "      inputs = inputs.view(inputs.shape[0], -1) # We must reshape the image inputs so they can be fed forward throughout the model\n",
        "      outputs = model(inputs)\n",
        "      loss = criterion(outputs, labels)\n",
        "\n",
        "      optimizer.zero_grad()\n",
        "      loss.backward()\n",
        "      optimizer.step()\n",
        "\n",
        "      _, preds = torch.max(outputs, 1) # gets the prediction of the model\n",
        "      running_loss += loss.item()\n",
        "      running_corrects += torch.sum(preds == labels.data) # counts the number of images classified correctly by comparing the prediction to the corresponding label\n",
        "\n",
        "    else: # this block of code is executed after all of the iterations (end of an epoch)\n",
        "      with torch.no_grad(): # this will set requires_grad = False for the tensors since no gradients need to be taken in this step. This is done to save memory. \n",
        "        for val_inputs, val_labels in validation_loader:\n",
        "          val_inputs = val_inputs.view(val_inputs.shape[0], -1) # We must reshape the image inputs so they can be fed forward throughout the model\n",
        "          val_outputs = model(val_inputs)\n",
        "          val_loss = criterion(val_outputs, val_labels)\n",
        "          \n",
        "          _, val_preds = torch.max(val_outputs, 1) # gets the prediction of the model\n",
        "          val_running_loss += val_loss.item()\n",
        "          val_running_corrects += torch.sum(val_preds == val_labels.data) # counts the number of images classified correctly by comparing the prediction to the corresponding label\n",
        "        \n",
        "      epoch_loss = running_loss/len(training_loader) # average loss for each epoch\n",
        "      epoch_accuracy = running_corrects.float()/len(training_loader) # accuracy for each epoch\n",
        "      running_loss_history.append(epoch_loss)\n",
        "      running_corrects_history.append(epoch_accuracy)\n",
        "      \n",
        "      val_epoch_loss = val_running_loss/len(validation_loader) # average loss for each epoch\n",
        "      val_epoch_accuracy = val_running_corrects.float()/len(validation_loader) # accuracy for each epoch\n",
        "      val_running_loss_history.append(val_epoch_loss)\n",
        "      val_running_corrects_history.append(val_epoch_accuracy)\n",
        "      \n",
        "      print(\"\")\n",
        "      print(\"Epoch #{}\".format(e+1))\n",
        "      print(\"Training loss: {:.4f}, Training Accuracy: {:.4f}\".format(epoch_loss, epoch_accuracy.item()))\n",
        "      print(\"Validation loss: {:.4f}, Validation Accuracy: {:.4f}\".format(val_epoch_loss, val_epoch_accuracy.item()))\n",
        "\n",
        "    "
      ],
      "execution_count": 0,
      "outputs": []
    },
    {
      "cell_type": "code",
      "metadata": {
        "id": "xB4zH9bQn4NO",
        "colab_type": "code",
        "outputId": "eed2f0fb-4ca2-4c8c-c938-3fcb12d79ac7",
        "colab": {
          "base_uri": "https://localhost:8080/",
          "height": 1000
        }
      },
      "source": [
        "train()"
      ],
      "execution_count": 0,
      "outputs": [
        {
          "output_type": "stream",
          "text": [
            "\n",
            "  0%|          | 0/12 [00:00<?, ?it/s]\u001b[A\n",
            "  8%|▊         | 1/12 [00:16<03:00, 16.44s/it]\u001b[A"
          ],
          "name": "stderr"
        },
        {
          "output_type": "stream",
          "text": [
            "\n",
            "Epoch #1\n",
            "Training loss: 0.3961, Training Accuracy: 87.4067\n",
            "Validation loss: 0.2657, Validation Accuracy: 91.4400\n"
          ],
          "name": "stdout"
        },
        {
          "output_type": "stream",
          "text": [
            "\n",
            " 17%|█▋        | 2/12 [00:36<02:54, 17.48s/it]\u001b[A"
          ],
          "name": "stderr"
        },
        {
          "output_type": "stream",
          "text": [
            "\n",
            "Epoch #2\n",
            "Training loss: 0.2351, Training Accuracy: 92.9800\n",
            "Validation loss: 0.2119, Validation Accuracy: 93.6800\n"
          ],
          "name": "stdout"
        },
        {
          "output_type": "stream",
          "text": [
            "\n",
            " 25%|██▌       | 3/12 [00:55<02:42, 18.09s/it]\u001b[A"
          ],
          "name": "stderr"
        },
        {
          "output_type": "stream",
          "text": [
            "\n",
            "Epoch #3\n",
            "Training loss: 0.2180, Training Accuracy: 93.5267\n",
            "Validation loss: 0.2265, Validation Accuracy: 93.3300\n"
          ],
          "name": "stdout"
        },
        {
          "output_type": "stream",
          "text": [
            "\n",
            " 33%|███▎      | 4/12 [01:15<02:28, 18.53s/it]\u001b[A"
          ],
          "name": "stderr"
        },
        {
          "output_type": "stream",
          "text": [
            "\n",
            "Epoch #4\n",
            "Training loss: 0.2001, Training Accuracy: 94.1050\n",
            "Validation loss: 0.2112, Validation Accuracy: 93.6400\n"
          ],
          "name": "stdout"
        },
        {
          "output_type": "stream",
          "text": [
            "\n",
            " 42%|████▏     | 5/12 [01:34<02:11, 18.84s/it]\u001b[A"
          ],
          "name": "stderr"
        },
        {
          "output_type": "stream",
          "text": [
            "\n",
            "Epoch #5\n",
            "Training loss: 0.1876, Training Accuracy: 94.4667\n",
            "Validation loss: 0.2032, Validation Accuracy: 93.7000\n"
          ],
          "name": "stdout"
        },
        {
          "output_type": "stream",
          "text": [
            "\n",
            " 50%|█████     | 6/12 [01:54<01:54, 19.06s/it]\u001b[A"
          ],
          "name": "stderr"
        },
        {
          "output_type": "stream",
          "text": [
            "\n",
            "Epoch #6\n",
            "Training loss: 0.1909, Training Accuracy: 94.4583\n",
            "Validation loss: 0.1952, Validation Accuracy: 94.5100\n"
          ],
          "name": "stdout"
        },
        {
          "output_type": "stream",
          "text": [
            "\n",
            " 58%|█████▊    | 7/12 [02:14<01:36, 19.28s/it]\u001b[A"
          ],
          "name": "stderr"
        },
        {
          "output_type": "stream",
          "text": [
            "\n",
            "Epoch #7\n",
            "Training loss: 0.1786, Training Accuracy: 94.8000\n",
            "Validation loss: 0.2466, Validation Accuracy: 93.1100\n"
          ],
          "name": "stdout"
        },
        {
          "output_type": "stream",
          "text": [
            "\n",
            " 67%|██████▋   | 8/12 [02:33<01:17, 19.38s/it]\u001b[A"
          ],
          "name": "stderr"
        },
        {
          "output_type": "stream",
          "text": [
            "\n",
            "Epoch #8\n",
            "Training loss: 0.1866, Training Accuracy: 94.7200\n",
            "Validation loss: 0.2182, Validation Accuracy: 94.0200\n"
          ],
          "name": "stdout"
        },
        {
          "output_type": "stream",
          "text": [
            "\n",
            " 75%|███████▌  | 9/12 [02:53<00:58, 19.47s/it]\u001b[A"
          ],
          "name": "stderr"
        },
        {
          "output_type": "stream",
          "text": [
            "\n",
            "Epoch #9\n",
            "Training loss: 0.1763, Training Accuracy: 94.9533\n",
            "Validation loss: 0.2014, Validation Accuracy: 94.7500\n"
          ],
          "name": "stdout"
        },
        {
          "output_type": "stream",
          "text": [
            "\n",
            " 83%|████████▎ | 10/12 [03:13<00:39, 19.54s/it]\u001b[A"
          ],
          "name": "stderr"
        },
        {
          "output_type": "stream",
          "text": [
            "\n",
            "Epoch #10\n",
            "Training loss: 0.1772, Training Accuracy: 94.9650\n",
            "Validation loss: 0.2145, Validation Accuracy: 94.3000\n"
          ],
          "name": "stdout"
        },
        {
          "output_type": "stream",
          "text": [
            "\n",
            " 92%|█████████▏| 11/12 [03:33<00:19, 19.60s/it]\u001b[A"
          ],
          "name": "stderr"
        },
        {
          "output_type": "stream",
          "text": [
            "\n",
            "Epoch #11\n",
            "Training loss: 0.1766, Training Accuracy: 95.0533\n",
            "Validation loss: 0.2243, Validation Accuracy: 94.0000\n"
          ],
          "name": "stdout"
        },
        {
          "output_type": "stream",
          "text": [
            "\n",
            "100%|██████████| 12/12 [03:52<00:00, 19.60s/it]\u001b[A\n",
            "\u001b[A"
          ],
          "name": "stderr"
        },
        {
          "output_type": "stream",
          "text": [
            "\n",
            "Epoch #12\n",
            "Training loss: 0.1774, Training Accuracy: 95.0467\n",
            "Validation loss: 0.2339, Validation Accuracy: 94.0600\n"
          ],
          "name": "stdout"
        }
      ]
    },
    {
      "cell_type": "markdown",
      "metadata": {
        "id": "K8ORoaK2mvd8",
        "colab_type": "text"
      },
      "source": [
        "## Plotting the results"
      ]
    },
    {
      "cell_type": "code",
      "metadata": {
        "id": "MndwQsO5mw7s",
        "colab_type": "code",
        "outputId": "216ef0e3-3828-40dc-a3c8-c1de848c6193",
        "colab": {
          "base_uri": "https://localhost:8080/",
          "height": 286
        }
      },
      "source": [
        "plt.plot(running_loss_history, label=\"Training loss\")\n",
        "plt.plot(val_running_loss_history, label=\"Validation loss\")\n",
        "plt.legend()"
      ],
      "execution_count": 0,
      "outputs": [
        {
          "output_type": "execute_result",
          "data": {
            "text/plain": [
              "<matplotlib.legend.Legend at 0x7f889ab9e550>"
            ]
          },
          "metadata": {
            "tags": []
          },
          "execution_count": 46
        },
        {
          "output_type": "display_data",
          "data": {
            "image/png": "[encoded data removed]",
            "text/plain": [
              "<Figure size 432x288 with 1 Axes>"
            ]
          },
          "metadata": {
            "tags": []
          }
        }
      ]
    },
    {
      "cell_type": "markdown",
      "metadata": {
        "id": "QhxPmJlfqTME",
        "colab_type": "text"
      },
      "source": [
        "## Retraining the model (tuning hyper-parameters)"
      ]
    },
    {
      "cell_type": "markdown",
      "metadata": {
        "id": "XWPz6mBGnPOC",
        "colab_type": "text"
      },
      "source": [
        "We notice that the loss graph is fluctuating too much, which leads me to believe the learning rate is too high as the steps it is taking are too drastic. Therefore we will decrease the learning rate, reinitialize the model, and then retrain the model. I also increased the number of epochs as it does not appear that it has reached its asymptote."
      ]
    },
    {
      "cell_type": "code",
      "metadata": {
        "id": "nk-GtpYhnb5r",
        "colab_type": "code",
        "outputId": "474d050e-3c95-4d10-8671-375164c02989",
        "colab": {
          "base_uri": "https://localhost:8080/",
          "height": 1000
        }
      },
      "source": [
        "epochs = 15\n",
        "running_loss_history = []\n",
        "running_corrects_history = []\n",
        "val_running_loss_history = []\n",
        "val_running_corrects_history = []\n",
        "\n",
        "model = Classifier(784, 125, 65, 10)\n",
        "optimizer = torch.optim.Adam(model.parameters(), lr = 0.0001)\n",
        "train()"
      ],
      "execution_count": 0,
      "outputs": [
        {
          "output_type": "stream",
          "text": [
            "\n",
            "  0%|          | 0/15 [00:00<?, ?it/s]\u001b[A\n",
            "  7%|▋         | 1/15 [00:16<03:49, 16.38s/it]\u001b[A"
          ],
          "name": "stderr"
        },
        {
          "output_type": "stream",
          "text": [
            "\n",
            "Epoch #1\n",
            "Training loss: 0.9442, Training Accuracy: 77.4217\n",
            "Validation loss: 0.4208, Validation Accuracy: 89.1700\n"
          ],
          "name": "stdout"
        },
        {
          "output_type": "stream",
          "text": [
            "\n",
            " 13%|█▎        | 2/15 [00:32<03:33, 16.45s/it]\u001b[A"
          ],
          "name": "stderr"
        },
        {
          "output_type": "stream",
          "text": [
            "\n",
            "Epoch #2\n",
            "Training loss: 0.3758, Training Accuracy: 89.4183\n",
            "Validation loss: 0.3230, Validation Accuracy: 91.0000\n"
          ],
          "name": "stdout"
        },
        {
          "output_type": "stream",
          "text": [
            "\n",
            " 20%|██        | 3/15 [00:49<03:17, 16.44s/it]\u001b[A"
          ],
          "name": "stderr"
        },
        {
          "output_type": "stream",
          "text": [
            "\n",
            "Epoch #3\n",
            "Training loss: 0.3163, Training Accuracy: 90.9267\n",
            "Validation loss: 0.2902, Validation Accuracy: 91.6600\n"
          ],
          "name": "stdout"
        },
        {
          "output_type": "stream",
          "text": [
            "\n",
            " 27%|██▋       | 4/15 [01:05<03:01, 16.47s/it]\u001b[A"
          ],
          "name": "stderr"
        },
        {
          "output_type": "stream",
          "text": [
            "\n",
            "Epoch #4\n",
            "Training loss: 0.2846, Training Accuracy: 91.8333\n",
            "Validation loss: 0.2638, Validation Accuracy: 92.3600\n"
          ],
          "name": "stdout"
        },
        {
          "output_type": "stream",
          "text": [
            "\n",
            " 33%|███▎      | 5/15 [01:22<02:44, 16.49s/it]\u001b[A"
          ],
          "name": "stderr"
        },
        {
          "output_type": "stream",
          "text": [
            "\n",
            "Epoch #5\n",
            "Training loss: 0.2617, Training Accuracy: 92.4817\n",
            "Validation loss: 0.2500, Validation Accuracy: 92.9300\n"
          ],
          "name": "stdout"
        },
        {
          "output_type": "stream",
          "text": [
            "\n",
            " 40%|████      | 6/15 [01:39<02:28, 16.53s/it]\u001b[A"
          ],
          "name": "stderr"
        },
        {
          "output_type": "stream",
          "text": [
            "\n",
            "Epoch #6\n",
            "Training loss: 0.2410, Training Accuracy: 93.0883\n",
            "Validation loss: 0.2295, Validation Accuracy: 93.4500\n"
          ],
          "name": "stdout"
        },
        {
          "output_type": "stream",
          "text": [
            "\n",
            " 47%|████▋     | 7/15 [01:55<02:12, 16.54s/it]\u001b[A"
          ],
          "name": "stderr"
        },
        {
          "output_type": "stream",
          "text": [
            "\n",
            "Epoch #7\n",
            "Training loss: 0.2232, Training Accuracy: 93.6083\n",
            "Validation loss: 0.2144, Validation Accuracy: 93.6800\n"
          ],
          "name": "stdout"
        },
        {
          "output_type": "stream",
          "text": [
            "\n",
            " 53%|█████▎    | 8/15 [02:12<01:56, 16.59s/it]\u001b[A"
          ],
          "name": "stderr"
        },
        {
          "output_type": "stream",
          "text": [
            "\n",
            "Epoch #8\n",
            "Training loss: 0.2073, Training Accuracy: 94.0350\n",
            "Validation loss: 0.1948, Validation Accuracy: 94.2600\n"
          ],
          "name": "stdout"
        },
        {
          "output_type": "stream",
          "text": [
            "\n",
            " 60%|██████    | 9/15 [02:29<01:39, 16.62s/it]\u001b[A"
          ],
          "name": "stderr"
        },
        {
          "output_type": "stream",
          "text": [
            "\n",
            "Epoch #9\n",
            "Training loss: 0.1924, Training Accuracy: 94.5050\n",
            "Validation loss: 0.1864, Validation Accuracy: 94.5300\n"
          ],
          "name": "stdout"
        },
        {
          "output_type": "stream",
          "text": [
            "\n",
            " 67%|██████▋   | 10/15 [02:46<01:23, 16.71s/it]\u001b[A"
          ],
          "name": "stderr"
        },
        {
          "output_type": "stream",
          "text": [
            "\n",
            "Epoch #10\n",
            "Training loss: 0.1794, Training Accuracy: 94.8717\n",
            "Validation loss: 0.1730, Validation Accuracy: 94.8500\n"
          ],
          "name": "stdout"
        },
        {
          "output_type": "stream",
          "text": [
            "\n",
            " 73%|███████▎  | 11/15 [03:02<01:06, 16.64s/it]\u001b[A"
          ],
          "name": "stderr"
        },
        {
          "output_type": "stream",
          "text": [
            "\n",
            "Epoch #11\n",
            "Training loss: 0.1674, Training Accuracy: 95.2000\n",
            "Validation loss: 0.1676, Validation Accuracy: 95.1700\n"
          ],
          "name": "stdout"
        },
        {
          "output_type": "stream",
          "text": [
            "\n",
            " 80%|████████  | 12/15 [03:19<00:49, 16.65s/it]\u001b[A"
          ],
          "name": "stderr"
        },
        {
          "output_type": "stream",
          "text": [
            "\n",
            "Epoch #12\n",
            "Training loss: 0.1563, Training Accuracy: 95.5700\n",
            "Validation loss: 0.1571, Validation Accuracy: 95.4000\n"
          ],
          "name": "stdout"
        },
        {
          "output_type": "stream",
          "text": [
            "\n",
            " 87%|████████▋ | 13/15 [03:35<00:33, 16.62s/it]\u001b[A"
          ],
          "name": "stderr"
        },
        {
          "output_type": "stream",
          "text": [
            "\n",
            "Epoch #13\n",
            "Training loss: 0.1477, Training Accuracy: 95.7600\n",
            "Validation loss: 0.1455, Validation Accuracy: 95.6900\n"
          ],
          "name": "stdout"
        },
        {
          "output_type": "stream",
          "text": [
            "\n",
            " 93%|█████████▎| 14/15 [03:52<00:16, 16.60s/it]\u001b[A"
          ],
          "name": "stderr"
        },
        {
          "output_type": "stream",
          "text": [
            "\n",
            "Epoch #14\n",
            "Training loss: 0.1395, Training Accuracy: 95.9983\n",
            "Validation loss: 0.1387, Validation Accuracy: 95.9700\n"
          ],
          "name": "stdout"
        },
        {
          "output_type": "stream",
          "text": [
            "\n",
            "100%|██████████| 15/15 [04:08<00:00, 16.59s/it]\u001b[A\n",
            "\u001b[A"
          ],
          "name": "stderr"
        },
        {
          "output_type": "stream",
          "text": [
            "\n",
            "Epoch #15\n",
            "Training loss: 0.1315, Training Accuracy: 96.2083\n",
            "Validation loss: 0.1334, Validation Accuracy: 95.9800\n"
          ],
          "name": "stdout"
        }
      ]
    },
    {
      "cell_type": "markdown",
      "metadata": {
        "id": "czDC0G7Yqb2u",
        "colab_type": "text"
      },
      "source": [
        "## Plotting the new results"
      ]
    },
    {
      "cell_type": "code",
      "metadata": {
        "id": "-rvyoBaWqd6g",
        "colab_type": "code",
        "outputId": "5480aa7e-7763-4f35-93c4-587fd68388fd",
        "colab": {
          "base_uri": "https://localhost:8080/",
          "height": 286
        }
      },
      "source": [
        "plt.plot(running_loss_history, label=\"Training loss\")\n",
        "plt.plot(val_running_loss_history, label=\"Validation loss\")\n",
        "plt.legend()"
      ],
      "execution_count": 0,
      "outputs": [
        {
          "output_type": "execute_result",
          "data": {
            "text/plain": [
              "<matplotlib.legend.Legend at 0x7f889ab0edd8>"
            ]
          },
          "metadata": {
            "tags": []
          },
          "execution_count": 48
        },
        {
          "output_type": "display_data",
          "data": {
            "image/png": "[encoded data removed]",
            "text/plain": [
              "<Figure size 432x288 with 1 Axes>"
            ]
          },
          "metadata": {
            "tags": []
          }
        }
      ]
    },
    {
      "cell_type": "code",
      "metadata": {
        "id": "aDAGUZTUqfxh",
        "colab_type": "code",
        "outputId": "d71f6d91-9c39-4adf-d26b-24c87fcb5bdf",
        "colab": {
          "base_uri": "https://localhost:8080/",
          "height": 286
        }
      },
      "source": [
        "plt.plot(running_corrects_history, label =\"Training accuracy\")\n",
        "plt.plot(val_running_corrects_history, label =\"Validation accuracy\")\n",
        "plt.legend()"
      ],
      "execution_count": 0,
      "outputs": [
        {
          "output_type": "execute_result",
          "data": {
            "text/plain": [
              "<matplotlib.legend.Legend at 0x7f889aab7080>"
            ]
          },
          "metadata": {
            "tags": []
          },
          "execution_count": 49
        },
        {
          "output_type": "display_data",
          "data": {
            "image/png": "[encoded data removed]",
            "text/plain": [
              "<Figure size 432x288 with 1 Axes>"
            ]
          },
          "metadata": {
            "tags": []
          }
        }
      ]
    },
    {
      "cell_type": "markdown",
      "metadata": {
        "id": "K_z0ThfXk4wn",
        "colab_type": "text"
      },
      "source": [
        "## Final Testing"
      ]
    },
    {
      "cell_type": "markdown",
      "metadata": {
        "id": "GmrogG2FlDv7",
        "colab_type": "text"
      },
      "source": [
        "We will further test the model by grabbing an image of the number '5' from the web, and see how well our model predicts that it's a '5'."
      ]
    },
    {
      "cell_type": "code",
      "metadata": {
        "id": "Ar7XUbIXk6ca",
        "colab_type": "code",
        "outputId": "fda8b659-5d8c-4819-cfd0-b83028085d4c",
        "colab": {
          "base_uri": "https://localhost:8080/",
          "height": 286
        }
      },
      "source": [
        "import requests\n",
        "from PIL import Image\n",
        "\n",
        "url = \"https://images.homedepot-static.com/productImages/007164ea-d47e-4f66-8d8c-fd9f621984a2/svn/architectural-mailboxes-house-letters-numbers-3585b-5-64_1000.jpg\"\n",
        "response = requests.get(url, stream = True)\n",
        "img = Image.open(response.raw)\n",
        "\n",
        "plt.imshow(img)"
      ],
      "execution_count": 0,
      "outputs": [
        {
          "output_type": "execute_result",
          "data": {
            "text/plain": [
              "<matplotlib.image.AxesImage at 0x7f889a9ed2b0>"
            ]
          },
          "metadata": {
            "tags": []
          },
          "execution_count": 50
        },
        {
          "output_type": "display_data",
          "data": {
            "image/png": "[encoded data removed]",
            "text/plain": [
              "<Figure size 432x288 with 1 Axes>"
            ]
          },
          "metadata": {
            "tags": []
          }
        }
      ]
    },
    {
      "cell_type": "markdown",
      "metadata": {
        "id": "TbP5nccRmB3C",
        "colab_type": "text"
      },
      "source": [
        "We must apply some preprocessing to this image so that it can be classified by our model:"
      ]
    },
    {
      "cell_type": "code",
      "metadata": {
        "id": "p1VvycC5mLCw",
        "colab_type": "code",
        "outputId": "98854c09-3b52-4e72-cd70-2fca3505e2c0",
        "colab": {
          "base_uri": "https://localhost:8080/",
          "height": 286
        }
      },
      "source": [
        "img = PIL.ImageOps.invert(img) # inverts the colours of the image\n",
        "img = img.convert('1') # converts image to black and white instead of RGB\n",
        "img = transform(img)\n",
        "plt.imshow(image_convert(img)) # we have to convert the image back to a numpy array for plt.imshow to render the image"
      ],
      "execution_count": 0,
      "outputs": [
        {
          "output_type": "execute_result",
          "data": {
            "text/plain": [
              "<matplotlib.image.AxesImage at 0x7f889a9be668>"
            ]
          },
          "metadata": {
            "tags": []
          },
          "execution_count": 51
        },
        {
          "output_type": "display_data",
          "data": {
            "image/png": "[encoded data removed]",
            "text/plain": [
              "<Figure size 432x288 with 1 Axes>"
            ]
          },
          "metadata": {
            "tags": []
          }
        }
      ]
    },
    {
      "cell_type": "code",
      "metadata": {
        "id": "L7oXzqF5rszC",
        "colab_type": "code",
        "outputId": "3bc4c581-13d1-4d10-d228-efef550c412c",
        "colab": {
          "base_uri": "https://localhost:8080/",
          "height": 35
        }
      },
      "source": [
        "img = img.view(img.shape[0], -1) # We must reshape the image inputs so they can be fed forward throughout the model\n",
        "output = model(img)\n",
        "_, pred = torch.max(output, 1) # gets the prediction of the model\n",
        "print(\"Prediction is: {}\".format(pred.item()))"
      ],
      "execution_count": 0,
      "outputs": [
        {
          "output_type": "stream",
          "text": [
            "Prediction is: 5\n"
          ],
          "name": "stdout"
        }
      ]
    },
    {
      "cell_type": "code",
      "metadata": {
        "id": "c2FG10Te3Rj5",
        "colab_type": "code",
        "outputId": "e802f573-5749-4f90-e0c8-f762c635729d",
        "colab": {
          "base_uri": "https://localhost:8080/",
          "height": 268
        }
      },
      "source": [
        "dataiter = iter(validation_loader)\n",
        "images, labels = dataiter.next()\n",
        "images_ = images.view(images.shape[0], -1)\n",
        "output = model(images_)\n",
        "_, preds = torch.max(output, 1)\n",
        " \n",
        "fig = plt.figure(figsize=(25, 4))\n",
        " \n",
        "for idx in np.arange(20):\n",
        "  ax = fig.add_subplot(2, 10, idx+1, xticks=[], yticks=[])\n",
        "  plt.imshow(image_convert(images[idx]))\n",
        "  ax.set_title(\"{} ({})\".format(str(preds[idx].item()), str(labels[idx].item())), color=(\"green\" if preds[idx]==labels[idx] else \"red\"))"
      ],
      "execution_count": 0,
      "outputs": [
        {
          "output_type": "display_data",
          "data": {
            "image/png": "[encoded data removed]",
            "text/plain": [
              "<Figure size 1800x288 with 20 Axes>"
            ]
          },
          "metadata": {
            "tags": []
          }
        }
      ]
    }
  ]
}