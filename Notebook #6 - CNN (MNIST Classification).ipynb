{
  "nbformat": 4,
  "nbformat_minor": 0,
  "metadata": {
    "colab": {
      "name": "Notebook #5 - CNN (MNIST Classification).ipynb",
      "version": "0.3.2",
      "provenance": [],
      "collapsed_sections": [
        "GoSQZojJsKoB",
        "A6YpuA3O6ZjU",
        "-wRiHie_SWoR",
        "608f_ZxYT3Ch",
        "w_BZQrmWdD2M",
        "z4YhHZr3mogG",
        "K8ORoaK2mvd8",
        "K_z0ThfXk4wn"
      ]
    },
    "kernelspec": {
      "name": "python3",
      "display_name": "Python 3"
    },
    "accelerator": "GPU"
  },
  "cells": [
    {
      "cell_type": "markdown",
      "metadata": {
        "id": "Ab1WYiBVsA1n",
        "colab_type": "text"
      },
      "source": [
        "# MNIST Image Classification (using a CNN)"
      ]
    },
    {
      "cell_type": "markdown",
      "metadata": {
        "id": "GoSQZojJsKoB",
        "colab_type": "text"
      },
      "source": [
        "## Purpose"
      ]
    },
    {
      "cell_type": "markdown",
      "metadata": {
        "id": "vn4qD4mWsL1m",
        "colab_type": "text"
      },
      "source": [
        "The purpose of this notebook is to classify between handwritten digits in the MNIST dataset using a convolutional neural network (CNN). Using a CNN we can achieve extremely high validation accuracy (~99%) due to its excellent feature extraction.  "
      ]
    },
    {
      "cell_type": "markdown",
      "metadata": {
        "id": "A6YpuA3O6ZjU",
        "colab_type": "text"
      },
      "source": [
        "## Imports"
      ]
    },
    {
      "cell_type": "code",
      "metadata": {
        "id": "fT53je-TN0cf",
        "colab_type": "code",
        "outputId": "5f82ecf9-d6e5-4bab-bc48-7cfc9c08f4e6",
        "colab": {
          "base_uri": "https://localhost:8080/",
          "height": 121
        }
      },
      "source": [
        "!pip3 install torchvision\n",
        "!pip3 install tqdm"
      ],
      "execution_count": 0,
      "outputs": [
        {
          "output_type": "stream",
          "text": [
            "Requirement already satisfied: torchvision in /usr/local/lib/python3.6/dist-packages (0.3.0)\n",
            "Requirement already satisfied: six in /usr/local/lib/python3.6/dist-packages (from torchvision) (1.12.0)\n",
            "Requirement already satisfied: pillow>=4.1.1 in /usr/local/lib/python3.6/dist-packages (from torchvision) (6.1.0)\n",
            "Requirement already satisfied: numpy in /usr/local/lib/python3.6/dist-packages (from torchvision) (1.16.4)\n",
            "Requirement already satisfied: torch>=1.1.0 in /usr/local/lib/python3.6/dist-packages (from torchvision) (1.1.0)\n",
            "Requirement already satisfied: tqdm in /usr/local/lib/python3.6/dist-packages (4.28.1)\n"
          ],
          "name": "stdout"
        }
      ]
    },
    {
      "cell_type": "code",
      "metadata": {
        "id": "x_rU-fguN2l9",
        "colab_type": "code",
        "colab": {}
      },
      "source": [
        "import torch\n",
        "import torch.nn.functional as F\n",
        "import matplotlib.pyplot as plt\n",
        "import numpy as np\n",
        "import PIL.ImageOps\n",
        "from torch import nn\n",
        "from torchvision import datasets, transforms\n",
        "from tqdm import tqdm"
      ],
      "execution_count": 0,
      "outputs": []
    },
    {
      "cell_type": "code",
      "metadata": {
        "id": "2RQ8uZP2rFPX",
        "colab_type": "code",
        "colab": {}
      },
      "source": [
        "device = torch.device(\"cuda:0\" if torch.cuda.is_available() else \"cpu\")"
      ],
      "execution_count": 0,
      "outputs": []
    },
    {
      "cell_type": "markdown",
      "metadata": {
        "id": "-wRiHie_SWoR",
        "colab_type": "text"
      },
      "source": [
        "## Preprocessing the image data from MNIST"
      ]
    },
    {
      "cell_type": "markdown",
      "metadata": {
        "id": "umNMOIiHSbOA",
        "colab_type": "text"
      },
      "source": [
        "Transformations used:\n",
        "\n",
        "- ToTensor will convert the 28x28 numpy array with pixel brightness values ranging from 0-255 (which is the structure the images in the MNIST dataset are currently in) to a float tensor with pixel brightness values ranging from 0-1\n",
        "\n",
        "- Normalize will apply normalization to the pixel brightness values (subtract value from mean and then divide by the standard deviation). This makes convergence to minumum loss quicker. \n",
        "\n"
      ]
    },
    {
      "cell_type": "code",
      "metadata": {
        "id": "qx8vHHMIN7qw",
        "colab_type": "code",
        "colab": {}
      },
      "source": [
        "transform = transforms.Compose([\n",
        "                               transforms.Resize((28,28)),\n",
        "                               transforms.ToTensor(),\n",
        "                               transforms.Normalize((0.5,), (0.5,)),\n",
        "                               ]) # defining the transformations we want to make to the images before feeding them into our model\n",
        "                                                          \n",
        "training_dataset = datasets.MNIST(root = './data', train=True, download=True, transform=transform) \n",
        "validation_dataset = datasets.MNIST(root = './data', train=False, download=True, transform=transform)\n",
        "\n",
        "training_loader = torch.utils.data.DataLoader(dataset = training_dataset, batch_size = 100, shuffle=True) # create a dataloader to handle batching of the data. Note that we shuffle the data at each epoch to prevent the gradient descent process from getting stuck in a local minimum, we want it to reach the absolute minimum.\n",
        "validation_loader = torch.utils.data.DataLoader(validation_dataset, batch_size = 100, shuffle=False)"
      ],
      "execution_count": 0,
      "outputs": []
    },
    {
      "cell_type": "markdown",
      "metadata": {
        "id": "608f_ZxYT3Ch",
        "colab_type": "text"
      },
      "source": [
        "## Plotting the original training images"
      ]
    },
    {
      "cell_type": "code",
      "metadata": {
        "id": "dL-c-iv_T55K",
        "colab_type": "code",
        "colab": {}
      },
      "source": [
        "def image_convert(tensor): # all this function does is prepeare the images for plotting by changing them from tensors to numpy arrays and also reversing the transforms made when creating training_dataset\n",
        "  image = tensor.cpu().clone().detach().numpy()\n",
        "  image = image.transpose(1, 2, 0)\n",
        "  image = image * np.array((0.5, 0.5, 0.5)) + np.array((0.5, 0.5, 0.5))\n",
        "  image = image.clip(0, 1)\n",
        "  return image"
      ],
      "execution_count": 0,
      "outputs": []
    },
    {
      "cell_type": "code",
      "metadata": {
        "id": "wM690VQ3ULWU",
        "colab_type": "code",
        "outputId": "3a038e2b-494b-4037-f7d0-ce611c2a4880",
        "colab": {
          "base_uri": "https://localhost:8080/",
          "height": 268
        }
      },
      "source": [
        "dataiter = iter(training_loader)\n",
        "images, labels = dataiter.next()\n",
        "fig = plt.figure(figsize=(25, 4))\n",
        "\n",
        "for idx in np.arange(20):\n",
        "  axis = fig.add_subplot(2, 10, idx+1, xticks = [], yticks = [])\n",
        "  plt.imshow(image_convert(images[idx]))\n",
        "  axis.set_title([labels[idx].item()])\n",
        "  "
      ],
      "execution_count": 0,
      "outputs": [
        {
          "output_type": "display_data",
          "data": {
            "image/png": "[encoded data removed]",
            "text/plain": [
              "<Figure size 1800x288 with 20 Axes>"
            ]
          },
          "metadata": {
            "tags": []
          }
        }
      ]
    },
    {
      "cell_type": "markdown",
      "metadata": {
        "id": "w_BZQrmWdD2M",
        "colab_type": "text"
      },
      "source": [
        "## Building the model"
      ]
    },
    {
      "cell_type": "code",
      "metadata": {
        "id": "I8ddycLidFeA",
        "colab_type": "code",
        "colab": {}
      },
      "source": [
        "class LeNet(nn.Module): # note that LeNet is a tried and true CNN model architecture. It consists if 2 convolutional layers (each followed by a pooling layer) to extract the features. Then, after these layers it goes into 2 fully-connected hidden layers for classification.\n",
        "  def __init__(self):\n",
        "    super().__init__()\n",
        "    self.conv1 = nn.Conv2d(1, 20, 5, 1) # arguments here are input_channel size (1 since its black and white image), output_channel size (# of desired features to be extracted), kernel_size, and stride, respectively\n",
        "    self.conv2 = nn.Conv2d(20, 50, 5, 1) # second convolutional layer\n",
        "    self.fc1 = nn.Linear(4*4*50, 500) # first fully connected layer. Input size is from the output of the images after passing through the convolutional (and pooling) layers. Output size is arbitrary.\n",
        "    self.dropout1 = nn.Dropout(0.5) # defining a dropout layer (which will randomly turn off nodes during the training process) to decrease the chance of overfitting occuring\n",
        "    self.fc2 = nn.Linear(500, 10) # since this is the second fully connected layer, the input size is simply the output size from the 1st fc layer. The output size is 10 since there are 10 potential classes (numbers 0-9) in the MNIST dataset\n",
        "    \n",
        "  def forward(self, x):\n",
        "    x = F.relu(self.conv1(x)) # the input is passed through the first convolutional layer, and ReLu activation function is applied to introduce non-linearity\n",
        "    x = F.max_pool2d(x, 2, 2) # this is the first pooling layer. The arguements are the images, followed by the kernel size (2), followed by the stride (2)\n",
        "    x = F.relu(self.conv2(x)) # the input is passed through the second convolutional layer, and ReLu activation function is applied to introduce non-linearity\n",
        "    x = F.max_pool2d(x, 2, 2) # this is the second pooling layer. The arguements are the images, followed by the kernel size (2), followed by the stride (2)\n",
        "    x = x.view(-1, 4*4*50)\n",
        "    x = F.relu(self.fc1(x))\n",
        "    x = self.dropout1(x)\n",
        "    x = self.fc2(x) # note that we don't apply an activation function here since it will be implictly applied with the nn.CrossEntropyLoss loss function\n",
        "    return x\n",
        "    "
      ],
      "execution_count": 0,
      "outputs": []
    },
    {
      "cell_type": "code",
      "metadata": {
        "id": "l5VAN8TidNfI",
        "colab_type": "code",
        "outputId": "478e321f-c502-4548-99ea-f5c2dd1695d5",
        "colab": {
          "base_uri": "https://localhost:8080/",
          "height": 138
        }
      },
      "source": [
        "model = LeNet().to(device)\n",
        "model"
      ],
      "execution_count": 0,
      "outputs": [
        {
          "output_type": "execute_result",
          "data": {
            "text/plain": [
              "LeNet(\n",
              "  (conv1): Conv2d(1, 20, kernel_size=(5, 5), stride=(1, 1))\n",
              "  (conv2): Conv2d(20, 50, kernel_size=(5, 5), stride=(1, 1))\n",
              "  (fc1): Linear(in_features=800, out_features=500, bias=True)\n",
              "  (dropout1): Dropout(p=0.5)\n",
              "  (fc2): Linear(in_features=500, out_features=10, bias=True)\n",
              ")"
            ]
          },
          "metadata": {
            "tags": []
          },
          "execution_count": 40
        }
      ]
    },
    {
      "cell_type": "code",
      "metadata": {
        "id": "tPpMP25If_Hk",
        "colab_type": "code",
        "colab": {}
      },
      "source": [
        "criterion = nn.CrossEntropyLoss() # we use Cross Entropy Loss for the loss function since it is a multi-class problem. Remember that this function also implicitly applies the log_softmax activation function\n",
        "optimizer = torch.optim.Adam(model.parameters(), lr = 0.0001) # We use Adam as our optimizer"
      ],
      "execution_count": 0,
      "outputs": []
    },
    {
      "cell_type": "markdown",
      "metadata": {
        "id": "z4YhHZr3mogG",
        "colab_type": "text"
      },
      "source": [
        "## Training the model"
      ]
    },
    {
      "cell_type": "code",
      "metadata": {
        "id": "NRfT_10lgPM2",
        "colab_type": "code",
        "colab": {}
      },
      "source": [
        "epochs = 15\n",
        "running_loss_history = []\n",
        "running_corrects_history = []\n",
        "val_running_loss_history = []\n",
        "val_running_corrects_history = []\n",
        "\n",
        "def train():\n",
        "  for e in tqdm(range(epochs)):\n",
        "    running_loss = 0.0\n",
        "    running_corrects = 0.0\n",
        "    val_running_loss = 0.0\n",
        "    val_running_corrects = 0.0\n",
        "    \n",
        "    for inputs, labels in training_loader:\n",
        "      inputs = inputs.to(device)\n",
        "      labels = labels.to(device)\n",
        "      outputs = model(inputs)\n",
        "      loss = criterion(outputs, labels)\n",
        "\n",
        "      optimizer.zero_grad()\n",
        "      loss.backward()\n",
        "      optimizer.step()\n",
        "\n",
        "      _, preds = torch.max(outputs, 1) # gets the prediction of the model\n",
        "      running_loss += loss.item()\n",
        "      running_corrects += torch.sum(preds == labels.data) # counts the number of images classified correctly by comparing the prediction to the corresponding label\n",
        "\n",
        "    else: # this block of code is executed after all of the iterations (end of an epoch)\n",
        "      with torch.no_grad(): # this will set requires_grad = False for the tensors since no gradients need to be taken in this step. This is done to save memory. \n",
        "        for val_inputs, val_labels in validation_loader:\n",
        "          val_inputs = val_inputs.to(device)\n",
        "          val_labels = val_labels.to(device)\n",
        "          val_outputs = model(val_inputs)\n",
        "          val_loss = criterion(val_outputs, val_labels)\n",
        "          \n",
        "          _, val_preds = torch.max(val_outputs, 1) # gets the prediction of the model\n",
        "          val_running_loss += val_loss.item()\n",
        "          val_running_corrects += torch.sum(val_preds == val_labels.data) # counts the number of images classified correctly by comparing the prediction to the corresponding label\n",
        "        \n",
        "      epoch_loss = running_loss/len(training_loader) # average loss for each epoch\n",
        "      epoch_accuracy = running_corrects.float()/len(training_loader) # accuracy for each epoch\n",
        "      running_loss_history.append(epoch_loss)\n",
        "      running_corrects_history.append(epoch_accuracy)\n",
        "      \n",
        "      val_epoch_loss = val_running_loss/len(validation_loader) # average loss for each epoch\n",
        "      val_epoch_accuracy = val_running_corrects.float()/len(validation_loader) # accuracy for each epoch\n",
        "      val_running_loss_history.append(val_epoch_loss)\n",
        "      val_running_corrects_history.append(val_epoch_accuracy)\n",
        "      \n",
        "      print(\"\")\n",
        "      print(\"Epoch #{}\".format(e+1))\n",
        "      print(\"Training loss: {:.4f}, Training Accuracy: {:.4f}\".format(epoch_loss, epoch_accuracy.item()))\n",
        "      print(\"Validation loss: {:.4f}, Validation Accuracy: {:.4f}\".format(val_epoch_loss, val_epoch_accuracy.item()))\n",
        "\n",
        "    "
      ],
      "execution_count": 0,
      "outputs": []
    },
    {
      "cell_type": "code",
      "metadata": {
        "id": "xB4zH9bQn4NO",
        "colab_type": "code",
        "outputId": "936d1501-1a4d-46e7-8019-1d88652bf550",
        "colab": {
          "base_uri": "https://localhost:8080/",
          "height": 1000
        }
      },
      "source": [
        "train()"
      ],
      "execution_count": 0,
      "outputs": [
        {
          "output_type": "stream",
          "text": [
            "\n",
            "  0%|          | 0/15 [00:00<?, ?it/s]\u001b[A\n",
            "  7%|▋         | 1/15 [00:19<04:31, 19.41s/it]\u001b[A"
          ],
          "name": "stderr"
        },
        {
          "output_type": "stream",
          "text": [
            "\n",
            "Epoch #1\n",
            "Training loss: 0.6084, Training Accuracy: 83.3983\n",
            "Validation loss: 0.1972, Validation Accuracy: 94.4600\n"
          ],
          "name": "stdout"
        },
        {
          "output_type": "stream",
          "text": [
            "\n",
            " 13%|█▎        | 2/15 [00:38<04:12, 19.39s/it]\u001b[A"
          ],
          "name": "stderr"
        },
        {
          "output_type": "stream",
          "text": [
            "\n",
            "Epoch #2\n",
            "Training loss: 0.1577, Training Accuracy: 95.2917\n",
            "Validation loss: 0.1091, Validation Accuracy: 96.8300\n"
          ],
          "name": "stdout"
        },
        {
          "output_type": "stream",
          "text": [
            "\n",
            " 20%|██        | 3/15 [00:58<03:52, 19.36s/it]\u001b[A"
          ],
          "name": "stderr"
        },
        {
          "output_type": "stream",
          "text": [
            "\n",
            "Epoch #3\n",
            "Training loss: 0.1041, Training Accuracy: 96.8817\n",
            "Validation loss: 0.0803, Validation Accuracy: 97.5100\n"
          ],
          "name": "stdout"
        },
        {
          "output_type": "stream",
          "text": [
            "\n",
            " 27%|██▋       | 4/15 [01:17<03:32, 19.35s/it]\u001b[A"
          ],
          "name": "stderr"
        },
        {
          "output_type": "stream",
          "text": [
            "\n",
            "Epoch #4\n",
            "Training loss: 0.0810, Training Accuracy: 97.5850\n",
            "Validation loss: 0.0656, Validation Accuracy: 97.9100\n"
          ],
          "name": "stdout"
        },
        {
          "output_type": "stream",
          "text": [
            "\n",
            " 33%|███▎      | 5/15 [01:36<03:13, 19.38s/it]\u001b[A"
          ],
          "name": "stderr"
        },
        {
          "output_type": "stream",
          "text": [
            "\n",
            "Epoch #5\n",
            "Training loss: 0.0664, Training Accuracy: 98.0317\n",
            "Validation loss: 0.0563, Validation Accuracy: 98.1200\n"
          ],
          "name": "stdout"
        },
        {
          "output_type": "stream",
          "text": [
            "\n",
            " 40%|████      | 6/15 [01:56<02:54, 19.36s/it]\u001b[A"
          ],
          "name": "stderr"
        },
        {
          "output_type": "stream",
          "text": [
            "\n",
            "Epoch #6\n",
            "Training loss: 0.0570, Training Accuracy: 98.2867\n",
            "Validation loss: 0.0487, Validation Accuracy: 98.3400\n"
          ],
          "name": "stdout"
        },
        {
          "output_type": "stream",
          "text": [
            "\n",
            " 47%|████▋     | 7/15 [02:15<02:34, 19.37s/it]\u001b[A"
          ],
          "name": "stderr"
        },
        {
          "output_type": "stream",
          "text": [
            "\n",
            "Epoch #7\n",
            "Training loss: 0.0500, Training Accuracy: 98.4550\n",
            "Validation loss: 0.0469, Validation Accuracy: 98.5800\n"
          ],
          "name": "stdout"
        },
        {
          "output_type": "stream",
          "text": [
            "\n",
            " 53%|█████▎    | 8/15 [02:34<02:15, 19.35s/it]\u001b[A"
          ],
          "name": "stderr"
        },
        {
          "output_type": "stream",
          "text": [
            "\n",
            "Epoch #8\n",
            "Training loss: 0.0456, Training Accuracy: 98.5817\n",
            "Validation loss: 0.0440, Validation Accuracy: 98.5100\n"
          ],
          "name": "stdout"
        },
        {
          "output_type": "stream",
          "text": [
            "\n",
            " 60%|██████    | 9/15 [02:54<01:56, 19.36s/it]\u001b[A"
          ],
          "name": "stderr"
        },
        {
          "output_type": "stream",
          "text": [
            "\n",
            "Epoch #9\n",
            "Training loss: 0.0429, Training Accuracy: 98.7000\n",
            "Validation loss: 0.0429, Validation Accuracy: 98.6100\n"
          ],
          "name": "stdout"
        },
        {
          "output_type": "stream",
          "text": [
            "\n",
            " 67%|██████▋   | 10/15 [03:13<01:36, 19.36s/it]\u001b[A"
          ],
          "name": "stderr"
        },
        {
          "output_type": "stream",
          "text": [
            "\n",
            "Epoch #10\n",
            "Training loss: 0.0372, Training Accuracy: 98.8483\n",
            "Validation loss: 0.0372, Validation Accuracy: 98.8100\n"
          ],
          "name": "stdout"
        },
        {
          "output_type": "stream",
          "text": [
            "\n",
            " 73%|███████▎  | 11/15 [03:32<01:17, 19.35s/it]\u001b[A"
          ],
          "name": "stderr"
        },
        {
          "output_type": "stream",
          "text": [
            "\n",
            "Epoch #11\n",
            "Training loss: 0.0345, Training Accuracy: 98.9583\n",
            "Validation loss: 0.0348, Validation Accuracy: 98.8600\n"
          ],
          "name": "stdout"
        },
        {
          "output_type": "stream",
          "text": [
            "\n",
            " 80%|████████  | 12/15 [03:52<00:58, 19.35s/it]\u001b[A"
          ],
          "name": "stderr"
        },
        {
          "output_type": "stream",
          "text": [
            "\n",
            "Epoch #12\n",
            "Training loss: 0.0326, Training Accuracy: 98.9833\n",
            "Validation loss: 0.0335, Validation Accuracy: 98.9500\n"
          ],
          "name": "stdout"
        },
        {
          "output_type": "stream",
          "text": [
            "\n",
            " 87%|████████▋ | 13/15 [04:11<00:38, 19.34s/it]\u001b[A"
          ],
          "name": "stderr"
        },
        {
          "output_type": "stream",
          "text": [
            "\n",
            "Epoch #13\n",
            "Training loss: 0.0299, Training Accuracy: 99.0833\n",
            "Validation loss: 0.0323, Validation Accuracy: 98.9800\n"
          ],
          "name": "stdout"
        },
        {
          "output_type": "stream",
          "text": [
            "\n",
            " 93%|█████████▎| 14/15 [04:30<00:19, 19.35s/it]\u001b[A"
          ],
          "name": "stderr"
        },
        {
          "output_type": "stream",
          "text": [
            "\n",
            "Epoch #14\n",
            "Training loss: 0.0267, Training Accuracy: 99.2083\n",
            "Validation loss: 0.0301, Validation Accuracy: 98.9800\n"
          ],
          "name": "stdout"
        },
        {
          "output_type": "stream",
          "text": [
            "\n",
            "100%|██████████| 15/15 [04:50<00:00, 19.33s/it]\u001b[A\n",
            "\u001b[A"
          ],
          "name": "stderr"
        },
        {
          "output_type": "stream",
          "text": [
            "\n",
            "Epoch #15\n",
            "Training loss: 0.0264, Training Accuracy: 99.1833\n",
            "Validation loss: 0.0278, Validation Accuracy: 99.0200\n"
          ],
          "name": "stdout"
        }
      ]
    },
    {
      "cell_type": "markdown",
      "metadata": {
        "id": "K8ORoaK2mvd8",
        "colab_type": "text"
      },
      "source": [
        "## Plotting the results"
      ]
    },
    {
      "cell_type": "code",
      "metadata": {
        "id": "MndwQsO5mw7s",
        "colab_type": "code",
        "outputId": "03be0b7c-8ccd-4eb0-bbbe-75e45350f7c7",
        "colab": {
          "base_uri": "https://localhost:8080/",
          "height": 286
        }
      },
      "source": [
        "plt.plot(running_loss_history, label=\"Training loss\")\n",
        "plt.plot(val_running_loss_history, label=\"Validation loss\")\n",
        "plt.legend()"
      ],
      "execution_count": 0,
      "outputs": [
        {
          "output_type": "execute_result",
          "data": {
            "text/plain": [
              "<matplotlib.legend.Legend at 0x7fb7c5422cf8>"
            ]
          },
          "metadata": {
            "tags": []
          },
          "execution_count": 44
        },
        {
          "output_type": "display_data",
          "data": {
            "image/png": "[encoded data removed]",
            "text/plain": [
              "<Figure size 432x288 with 1 Axes>"
            ]
          },
          "metadata": {
            "tags": []
          }
        }
      ]
    },
    {
      "cell_type": "code",
      "metadata": {
        "id": "f1EhdCix1D6n",
        "colab_type": "code",
        "outputId": "d200c5ea-7468-4ce3-f6f5-8cad54ebcba9",
        "colab": {
          "base_uri": "https://localhost:8080/",
          "height": 286
        }
      },
      "source": [
        "plt.plot(running_corrects_history, label =\"Training accuracy\")\n",
        "plt.plot(val_running_corrects_history, label =\"Validation accuracy\")\n",
        "plt.legend()"
      ],
      "execution_count": 0,
      "outputs": [
        {
          "output_type": "execute_result",
          "data": {
            "text/plain": [
              "<matplotlib.legend.Legend at 0x7fb7c71807f0>"
            ]
          },
          "metadata": {
            "tags": []
          },
          "execution_count": 45
        },
        {
          "output_type": "display_data",
          "data": {
            "image/png": "[encoded data removed]",
            "text/plain": [
              "<Figure size 432x288 with 1 Axes>"
            ]
          },
          "metadata": {
            "tags": []
          }
        }
      ]
    },
    {
      "cell_type": "markdown",
      "metadata": {
        "id": "K_z0ThfXk4wn",
        "colab_type": "text"
      },
      "source": [
        "## Final Testing"
      ]
    },
    {
      "cell_type": "markdown",
      "metadata": {
        "id": "GmrogG2FlDv7",
        "colab_type": "text"
      },
      "source": [
        "We will further test the model by grabbing an image of the number '5' from the web, and see how well our model predicts that it's a '5'."
      ]
    },
    {
      "cell_type": "code",
      "metadata": {
        "id": "Ar7XUbIXk6ca",
        "colab_type": "code",
        "outputId": "cc67288a-b83b-43b5-d15f-614ef3d75680",
        "colab": {
          "base_uri": "https://localhost:8080/",
          "height": 286
        }
      },
      "source": [
        "import requests\n",
        "from PIL import Image\n",
        "\n",
        "url = \"https://images.homedepot-static.com/productImages/007164ea-d47e-4f66-8d8c-fd9f621984a2/svn/architectural-mailboxes-house-letters-numbers-3585b-5-64_1000.jpg\"\n",
        "response = requests.get(url, stream = True)\n",
        "img = Image.open(response.raw)\n",
        "\n",
        "plt.imshow(img)"
      ],
      "execution_count": 0,
      "outputs": [
        {
          "output_type": "execute_result",
          "data": {
            "text/plain": [
              "<matplotlib.image.AxesImage at 0x7fb7c53c15c0>"
            ]
          },
          "metadata": {
            "tags": []
          },
          "execution_count": 46
        },
        {
          "output_type": "display_data",
          "data": {
            "image/png": "[encoded data removed]",
            "text/plain": [
              "<Figure size 432x288 with 1 Axes>"
            ]
          },
          "metadata": {
            "tags": []
          }
        }
      ]
    },
    {
      "cell_type": "markdown",
      "metadata": {
        "id": "TbP5nccRmB3C",
        "colab_type": "text"
      },
      "source": [
        "We must apply some preprocessing to this image so that it can be classified by our model:"
      ]
    },
    {
      "cell_type": "code",
      "metadata": {
        "id": "p1VvycC5mLCw",
        "colab_type": "code",
        "outputId": "1ca66f9f-8e6c-4d60-8edd-6c21e5a3d679",
        "colab": {
          "base_uri": "https://localhost:8080/",
          "height": 286
        }
      },
      "source": [
        "img = PIL.ImageOps.invert(img) # inverts the colours of the image\n",
        "img = img.convert('1') # converts image to black and white instead of RGB\n",
        "img = transform(img)\n",
        "plt.imshow(image_convert(img)) # we have to convert the image back to a numpy array for plt.imshow to render the image"
      ],
      "execution_count": 0,
      "outputs": [
        {
          "output_type": "execute_result",
          "data": {
            "text/plain": [
              "<matplotlib.image.AxesImage at 0x7fb7cc1239e8>"
            ]
          },
          "metadata": {
            "tags": []
          },
          "execution_count": 47
        },
        {
          "output_type": "display_data",
          "data": {
            "image/png": "[encoded data removed]",
            "text/plain": [
              "<Figure size 432x288 with 1 Axes>"
            ]
          },
          "metadata": {
            "tags": []
          }
        }
      ]
    },
    {
      "cell_type": "code",
      "metadata": {
        "id": "L7oXzqF5rszC",
        "colab_type": "code",
        "outputId": "ad1c7b13-8238-431e-f3fb-5329b8ff7273",
        "colab": {
          "base_uri": "https://localhost:8080/",
          "height": 35
        }
      },
      "source": [
        "images = img.to(device)\n",
        "images = images[0].unsqueeze(0).unsqueeze(0) # unsqueezing so it can be fed into the model\n",
        "output = model(images)\n",
        "_, pred = torch.max(output, 1) # gets the prediction of the model\n",
        "print(\"Prediction is: {}\".format(pred.item()))"
      ],
      "execution_count": 0,
      "outputs": [
        {
          "output_type": "stream",
          "text": [
            "Prediction is: 5\n"
          ],
          "name": "stdout"
        }
      ]
    },
    {
      "cell_type": "code",
      "metadata": {
        "id": "c2FG10Te3Rj5",
        "colab_type": "code",
        "outputId": "99505103-1830-4cf2-a302-524290018485",
        "colab": {
          "base_uri": "https://localhost:8080/",
          "height": 268
        }
      },
      "source": [
        "dataiter = iter(validation_loader)\n",
        "images, labels = dataiter.next()\n",
        "images = images.to(device)\n",
        "labels = labels.to(device)\n",
        "output = model(images)\n",
        "_, preds = torch.max(output, 1)\n",
        " \n",
        "fig = plt.figure(figsize=(25, 4))\n",
        " \n",
        "for idx in np.arange(20):\n",
        "  ax = fig.add_subplot(2, 10, idx+1, xticks=[], yticks=[])\n",
        "  plt.imshow(image_convert(images[idx]))\n",
        "  ax.set_title(\"{} ({})\".format(str(preds[idx].item()), str(labels[idx].item())), color=(\"green\" if preds[idx]==labels[idx] else \"red\"))"
      ],
      "execution_count": 0,
      "outputs": [
        {
          "output_type": "display_data",
          "data": {
            "image/png": "[encoded data removed]",
            "text/plain": [
              "<Figure size 1800x288 with 20 Axes>"
            ]
          },
          "metadata": {
            "tags": []
          }
        }
      ]
    }
  ]
}